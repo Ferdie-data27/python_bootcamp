{
 "cells": [
  {
   "cell_type": "markdown",
   "metadata": {
    "colab_type": "text",
    "id": "view-in-github"
   },
   "source": [
    "<a href=\"https://colab.research.google.com/github/Ferdie-data27/python_bootcamp/blob/main/Python_Bootcamp_Week_1_7_Jupiter_%2B_GitHub.ipynb\" target=\"_parent\"><img src=\"https://colab.research.google.com/assets/colab-badge.svg\" alt=\"Open In Colab\"/></a>"
   ]
  },
  {
   "cell_type": "code",
   "execution_count": 1,
   "metadata": {
    "colab": {
     "base_uri": "https://localhost:8080/"
    },
    "id": "ikAT2WlFDpYV",
    "outputId": "f03a7f0b-de04-47ce-e8a8-2e8fd8ba374f"
   },
   "outputs": [
    {
     "name": "stdout",
     "output_type": "stream",
     "text": [
      "Guess a number betwee 0 and 100.\n"
     ]
    },
    {
     "name": "stdin",
     "output_type": "stream",
     "text": [
      " 50\n"
     ]
    },
    {
     "name": "stdout",
     "output_type": "stream",
     "text": [
      "Guess lower.\n"
     ]
    },
    {
     "name": "stdin",
     "output_type": "stream",
     "text": [
      " 25\n"
     ]
    },
    {
     "name": "stdout",
     "output_type": "stream",
     "text": [
      "Guess lower.\n"
     ]
    },
    {
     "name": "stdin",
     "output_type": "stream",
     "text": [
      " 12\n"
     ]
    },
    {
     "name": "stdout",
     "output_type": "stream",
     "text": [
      "Guess higher.\n"
     ]
    },
    {
     "name": "stdin",
     "output_type": "stream",
     "text": [
      " 18\n"
     ]
    },
    {
     "name": "stdout",
     "output_type": "stream",
     "text": [
      "Guess lower.\n"
     ]
    },
    {
     "name": "stdin",
     "output_type": "stream",
     "text": [
      " 15\n"
     ]
    },
    {
     "name": "stdout",
     "output_type": "stream",
     "text": [
      "You win!\n",
      "Small change!\n"
     ]
    }
   ],
   "source": [
    "from random import randint\n",
    "\n",
    "low = 0\n",
    "high = 100\n",
    "\n",
    "correct = randint(1, 100) # note that the data type of the output here is a an integer.\n",
    "\n",
    "\n",
    "\n",
    "print(f'Guess a number betwee {low} and {high}.')\n",
    "\n",
    "while True:\n",
    "  guess = int(input()) # note that we need to convert the str output of input() \n",
    "                       # to an integer so that when we compare it against the correct value, \n",
    "                       # we have the same data type.\n",
    "\n",
    "  if guess > correct:\n",
    "    print('Guess lower.')\n",
    "\n",
    "  elif guess < correct:\n",
    "    print('Guess higher.')\n",
    "\n",
    "  else:\n",
    "    print('You win!')\n",
    "    break\n",
    "\n",
    "print('Small change!')\n",
    "  "
   ]
  },
  {
   "cell_type": "code",
   "execution_count": null,
   "metadata": {},
   "outputs": [],
   "source": []
  }
 ],
 "metadata": {
  "colab": {
   "authorship_tag": "ABX9TyMhl1NPetErhMPTw0+9GzEW",
   "collapsed_sections": [],
   "include_colab_link": true,
   "name": "Python Bootcamp Week 1.7 - Jupiter + GitHub.ipynb",
   "provenance": []
  },
  "kernelspec": {
   "display_name": "Python 3",
   "language": "python",
   "name": "python3"
  },
  "language_info": {
   "codemirror_mode": {
    "name": "ipython",
    "version": 3
   },
   "file_extension": ".py",
   "mimetype": "text/x-python",
   "name": "python",
   "nbconvert_exporter": "python",
   "pygments_lexer": "ipython3",
   "version": "3.9.1"
  }
 },
 "nbformat": 4,
 "nbformat_minor": 4
}
