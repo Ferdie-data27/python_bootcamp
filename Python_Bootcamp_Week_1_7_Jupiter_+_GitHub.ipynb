{
  "nbformat": 4,
  "nbformat_minor": 0,
  "metadata": {
    "colab": {
      "name": "Python Bootcamp Week 1.7 - Jupiter + GitHub.ipynb",
      "provenance": [],
      "collapsed_sections": [],
      "authorship_tag": "ABX9TyMhl1NPetErhMPTw0+9GzEW",
      "include_colab_link": true
    },
    "kernelspec": {
      "name": "python3",
      "display_name": "Python 3"
    }
  },
  "cells": [
    {
      "cell_type": "markdown",
      "metadata": {
        "id": "view-in-github",
        "colab_type": "text"
      },
      "source": [
        "<a href=\"https://colab.research.google.com/github/Ferdie-data27/python_bootcamp/blob/main/Python_Bootcamp_Week_1_7_Jupiter_%2B_GitHub.ipynb\" target=\"_parent\"><img src=\"https://colab.research.google.com/assets/colab-badge.svg\" alt=\"Open In Colab\"/></a>"
      ]
    },
    {
      "cell_type": "code",
      "metadata": {
        "id": "ikAT2WlFDpYV",
        "colab": {
          "base_uri": "https://localhost:8080/"
        },
        "outputId": "f03a7f0b-de04-47ce-e8a8-2e8fd8ba374f"
      },
      "source": [
        "from random import randint\n",
        "\n",
        "low = 0\n",
        "high = 100\n",
        "\n",
        "correct = randint(1, 100) # note that the data type of the output here is a an integer.\n",
        "\n",
        "\n",
        "\n",
        "print(f'Guess a number betwee {low} and {high}.')\n",
        "\n",
        "while True:\n",
        "  guess = int(input()) # note that we need to convert the str output of input() \n",
        "                       # to an integer so that when we compare it against the correct value, \n",
        "                       # we have the same data type.\n",
        "\n",
        "  if guess > correct:\n",
        "    print('Guess lower.')\n",
        "\n",
        "  elif guess < correct:\n",
        "    print('Guess higher.')\n",
        "\n",
        "  else:\n",
        "    print('You win!')\n",
        "    break\n",
        "\n",
        "print('Done!')\n",
        "  "
      ],
      "execution_count": 2,
      "outputs": [
        {
          "output_type": "stream",
          "text": [
            "Guess a number betwee 0 and 100.\n",
            "50\n",
            "Guess higher.\n",
            "75\n",
            "Guess lower.\n",
            "62\n",
            "Guess higher.\n",
            "68\n",
            "Guess higher.\n",
            "72\n",
            "Guess lower.\n",
            "70\n",
            "Guess lower.\n",
            "69\n",
            "You win!\n",
            "Done!\n"
          ],
          "name": "stdout"
        }
      ]
    }
  ]
}