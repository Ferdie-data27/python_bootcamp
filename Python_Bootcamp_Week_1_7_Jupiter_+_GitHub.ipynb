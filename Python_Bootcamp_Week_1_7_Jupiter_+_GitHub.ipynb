{
  "nbformat": 4,
  "nbformat_minor": 0,
  "metadata": {
    "colab": {
      "name": "Python Bootcamp Week 1.7 - Jupiter + GitHub.ipynb",
      "provenance": [],
      "collapsed_sections": [],
      "authorship_tag": "ABX9TyP/pauXFWwiEyozw/m59BpX",
      "include_colab_link": true
    },
    "kernelspec": {
      "name": "python3",
      "display_name": "Python 3"
    }
  },
  "cells": [
    {
      "cell_type": "markdown",
      "metadata": {
        "id": "view-in-github",
        "colab_type": "text"
      },
      "source": [
        "<a href=\"https://colab.research.google.com/github/Ferdie-data27/python_bootcamp/blob/main/Python_Bootcamp_Week_1_7_Jupiter_%2B_GitHub.ipynb\" target=\"_parent\"><img src=\"https://colab.research.google.com/assets/colab-badge.svg\" alt=\"Open In Colab\"/></a>"
      ]
    },
    {
      "cell_type": "code",
      "metadata": {
        "id": "ikAT2WlFDpYV",
        "colab": {
          "base_uri": "https://localhost:8080/"
        },
        "outputId": "a1639a76-b6ca-455e-e543-d903b316a547"
      },
      "source": [
        "from random import randint\n",
        "\n",
        "low = 0\n",
        "high = 100\n",
        "\n",
        "correct = randint(1, 100) # note that the data type of the output here is a an integer.\n",
        "\n",
        "\n",
        "\n",
        "print(f'Guess a number betwee {low} and {high}.')\n",
        "\n",
        "while True:\n",
        "  guess = int(input()) # note that we need to convert the str output of input() \n",
        "                       # to an integer so that when we compare it against the correct value, \n",
        "                       # we have the same data type.\n",
        "\n",
        "  if guess > correct:\n",
        "    print('Guess lower.')\n",
        "\n",
        "  elif guess < correct:\n",
        "    print('Guess higher.')\n",
        "\n",
        "  else:\n",
        "    print('You win!')\n",
        "    break\n",
        "  "
      ],
      "execution_count": 1,
      "outputs": [
        {
          "output_type": "stream",
          "text": [
            "Guess a number betwee 0 and 100.\n",
            "50\n",
            "Guess higher.\n",
            "75\n",
            "Guess lower.\n",
            "53\n",
            "Guess higher.\n",
            "70\n",
            "Guess lower.\n",
            "67\n",
            "Guess lower.\n",
            "64\n",
            "Guess lower.\n",
            "58\n",
            "Guess higher.\n",
            "60\n",
            "Guess higher.\n",
            "63\n",
            "You win!\n"
          ],
          "name": "stdout"
        }
      ]
    }
  ]
}